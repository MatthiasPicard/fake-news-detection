{
 "cells": [
  {
   "cell_type": "code",
   "execution_count": 4,
   "id": "88807890-b3c1-4a65-bcb4-9e823f5fe95b",
   "metadata": {},
   "outputs": [
    {
     "name": "stderr",
     "output_type": "stream",
     "text": [
      "C:\\Users\\bilel\\PycharmProjects\\FakeNews\\fake-news-detection\\preprocessing.py:144: SettingWithCopyWarning: \n",
      "A value is trying to be set on a copy of a slice from a DataFrame.\n",
      "Try using .loc[row_indexer,col_indexer] = value instead\n",
      "\n",
      "See the caveats in the documentation: https://pandas.pydata.org/pandas-docs/stable/user_guide/indexing.html#returning-a-view-versus-a-copy\n",
      "  est_source_de[\"MentionIdentifier\"] = est_source_de[\"MentionIdentifier\"].map(article_map[\"index\"]).astype(int)\n",
      "C:\\Users\\bilel\\PycharmProjects\\FakeNews\\fake-news-detection\\preprocessing.py:146: SettingWithCopyWarning: \n",
      "A value is trying to be set on a copy of a slice from a DataFrame.\n",
      "Try using .loc[row_indexer,col_indexer] = value instead\n",
      "\n",
      "See the caveats in the documentation: https://pandas.pydata.org/pandas-docs/stable/user_guide/indexing.html#returning-a-view-versus-a-copy\n",
      "  est_source_de[\"MentionSourceName\"] = est_source_de[\"MentionSourceName\"].map(source_map[\"index\"]).astype(int)\n",
      "C:\\Users\\bilel\\PycharmProjects\\FakeNews\\fake-news-detection\\preprocessing.py:162: SettingWithCopyWarning: \n",
      "A value is trying to be set on a copy of a slice from a DataFrame.\n",
      "Try using .loc[row_indexer,col_indexer] = value instead\n",
      "\n",
      "See the caveats in the documentation: https://pandas.pydata.org/pandas-docs/stable/user_guide/indexing.html#returning-a-view-versus-a-copy\n",
      "  mentionné[\"MentionIdentifier\"] = mentionné[\"MentionIdentifier\"].map(article_map[\"index\"]).astype(int)\n",
      "C:\\Users\\bilel\\PycharmProjects\\FakeNews\\fake-news-detection\\preprocessing.py:170: SettingWithCopyWarning: \n",
      "A value is trying to be set on a copy of a slice from a DataFrame.\n",
      "Try using .loc[row_indexer,col_indexer] = value instead\n",
      "\n",
      "See the caveats in the documentation: https://pandas.pydata.org/pandas-docs/stable/user_guide/indexing.html#returning-a-view-versus-a-copy\n",
      "  mentionné[\"GlobalEventID\"] = mentionné[\"GlobalEventID\"].map(event_map[\"index\"]).astype(int)\n"
     ]
    },
    {
     "name": "stdout",
     "output_type": "stream",
     "text": [
      "Epoch: 000, Loss: 0.9949, Train F1: 0.0464, Test F1: 0.0779\n",
      "Epoch: 001, Loss: 0.8680, Train F1: 0.0491, Test F1: 0.0857\n",
      "Epoch: 002, Loss: 0.7472, Train F1: 0.0323, Test F1: 0.0000\n",
      "Epoch: 003, Loss: 0.6508, Train F1: 0.0000, Test F1: 0.0000\n",
      "Epoch: 004, Loss: 0.5537, Train F1: 0.0000, Test F1: 0.0000\n"
     ]
    }
   ],
   "source": [
    "from preprocessing import SimplePreprocessing\n",
    "from heterogemodel import HAN\n",
    "from Training import SimpleTraining\n",
    "from TrainingService import SimpleConnexionsHAN\n",
    "from GraphViz import GraphViz\n",
    "import torch\n",
    "import torch.nn.functional as F\n",
    "import os\n",
    "\n",
    "def get_csv_files(directory, n):\n",
    "    csv_files = []\n",
    "    for filename in os.listdir(directory):\n",
    "        if filename.endswith(\".CSV\"):\n",
    "            csv_files.append(os.path.join(directory, filename))\n",
    "            if len(csv_files) == n:\n",
    "                break\n",
    "    return csv_files\n",
    "\n",
    "if __name__ == \"__main__\":\n",
    "\n",
    "    nb_event_csv = 16 # TODO: fail at 17 if label = source\n",
    "    nb_mentions_csv = 20\n",
    "    list_mention = get_csv_files(\"gdelt_data\", nb_mentions_csv)\n",
    "    list_event = get_csv_files(\"gdelt_data_event\",nb_event_csv)\n",
    "\n",
    "    label = \"source\"\n",
    "    #device = torch.device('cuda' if torch.cuda.is_available() else 'cpu')\n",
    "    device = torch.device('cpu')\n",
    "    args_simple_connexions_HAN_1 = {\n",
    "    \"list_mention\": list_mention,\n",
    "    \"list_event\":list_event,\n",
    "    \n",
    "    \"hidden_channels\": 64,\n",
    "    \"out_channels\": 2,\n",
    "    \"n_heads\": 4,\n",
    "    \"dropout\": 0.5,\n",
    "    \"nb_epoch\": 5,\n",
    "    \"lr\": 0.005,\n",
    "    \"weight_decay\":0.001\n",
    "    \n",
    "    }\n",
    "       \n",
    "    fake_news_detector = SimpleConnexionsHAN(label,device) \n",
    "    fake_news_detector.create_graph_and_train_on_model(**args_simple_connexions_HAN_1)\n",
    "    # TODO: create a function to save model\n",
    "    \n",
    "    #analyse = GraphViz(label,list_event,list_mention)\n",
    "    #analyse.get_recap()\n",
    "    #analyse.display_graph()"
   ]
  },
  {
   "cell_type": "code",
   "execution_count": null,
   "id": "3ae88910-8e04-4524-af75-bd9a75e25147",
   "metadata": {},
   "outputs": [],
   "source": []
  }
 ],
 "metadata": {
  "kernelspec": {
   "display_name": "Python 3 (ipykernel)",
   "language": "python",
   "name": "python3"
  },
  "language_info": {
   "codemirror_mode": {
    "name": "ipython",
    "version": 3
   },
   "file_extension": ".py",
   "mimetype": "text/x-python",
   "name": "python",
   "nbconvert_exporter": "python",
   "pygments_lexer": "ipython3",
   "version": "3.8.18"
  }
 },
 "nbformat": 4,
 "nbformat_minor": 5
}
