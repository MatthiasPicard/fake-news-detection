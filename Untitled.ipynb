{
 "cells": [
  {
   "cell_type": "code",
   "execution_count": 1,
   "id": "af661ce0-6cd1-4cdc-9037-e08b1bb3d7a7",
   "metadata": {
    "scrolled": true
   },
   "outputs": [
    {
     "ename": "TypeError",
     "evalue": "__init__() missing 1 required positional argument: 'is_mixte'",
     "output_type": "error",
     "traceback": [
      "\u001b[1;31m---------------------------------------------------------------------------\u001b[0m",
      "\u001b[1;31mTypeError\u001b[0m                                 Traceback (most recent call last)",
      "Cell \u001b[1;32mIn[1], line 49\u001b[0m\n\u001b[0;32m     46\u001b[0m fake_news_detector \u001b[38;5;241m=\u001b[39m SimpleConnexionsHAN(label,device) \n\u001b[0;32m     47\u001b[0m \u001b[38;5;66;03m# fake_news_detector = CloseEventsConnexionsHAN(label,device) \u001b[39;00m\n\u001b[1;32m---> 49\u001b[0m \u001b[43mfake_news_detector\u001b[49m\u001b[38;5;241;43m.\u001b[39;49m\u001b[43mcreate_graph_and_train_on_model\u001b[49m\u001b[43m(\u001b[49m\u001b[38;5;241;43m*\u001b[39;49m\u001b[38;5;241;43m*\u001b[39;49m\u001b[43margs_simple_connexions_HAN_1\u001b[49m\u001b[43m)\u001b[49m\n",
      "File \u001b[1;32mc:\\Users\\bilel\\PycharmProjects\\FakeNews\\fake-news-detection\\TrainingService.py:31\u001b[0m, in \u001b[0;36mSimpleConnexionsHAN.create_graph_and_train_on_model\u001b[1;34m(self, list_event, list_mention, hidden_channels, out_channels, n_heads, nb_epoch, lr, weight_decay, dropout)\u001b[0m\n\u001b[0;32m     29\u001b[0m \u001b[38;5;28;01mdef\u001b[39;00m \u001b[38;5;21mcreate_graph_and_train_on_model\u001b[39m(\u001b[38;5;28mself\u001b[39m,list_event,list_mention,hidden_channels,out_channels,n_heads,nb_epoch,lr,weight_decay\u001b[38;5;241m=\u001b[39m\u001b[38;5;241m0\u001b[39m,dropout\u001b[38;5;241m=\u001b[39m\u001b[38;5;28;01mNone\u001b[39;00m):\n\u001b[1;32m---> 31\u001b[0m     preprocessing \u001b[38;5;241m=\u001b[39m \u001b[43mSimplePreprocessing\u001b[49m\u001b[43m(\u001b[49m\u001b[38;5;28;43mself\u001b[39;49m\u001b[38;5;241;43m.\u001b[39;49m\u001b[43mlabel\u001b[49m\u001b[43m)\u001b[49m\n\u001b[0;32m     32\u001b[0m     labels,df_events,df_mentions \u001b[38;5;241m=\u001b[39m preprocessing\u001b[38;5;241m.\u001b[39mdata_load(list_event,list_mention)\n\u001b[0;32m     33\u001b[0m     data \u001b[38;5;241m=\u001b[39m preprocessing\u001b[38;5;241m.\u001b[39mcreate_graph(labels,df_events,df_mentions)\n",
      "\u001b[1;31mTypeError\u001b[0m: __init__() missing 1 required positional argument: 'is_mixte'"
     ]
    }
   ],
   "source": [
    "from SimplePreprocessing import SimplePreprocessing\n",
    "from heterogemodel import HAN\n",
    "from Training import SimpleTraining\n",
    "from TrainingService import SimpleConnexionsHAN,CloseEventsConnexionsHAN\n",
    "\n",
    "\n",
    "from GraphViz import GraphViz\n",
    "import torch\n",
    "import torch.nn.functional as F\n",
    "import os\n",
    "\n",
    "def get_csv_files(directory, n):\n",
    "    csv_files = []\n",
    "    for filename in os.listdir(directory):\n",
    "        if filename.endswith(\".CSV\"):\n",
    "            # print(os.path.join(directory, filename))\n",
    "            csv_files.append(os.path.join(directory, filename))\n",
    "            if len(csv_files) == n:\n",
    "                break\n",
    "    return csv_files\n",
    "\n",
    "if __name__ == \"__main__\":\n",
    "    \n",
    "    nb_event_csv = 100 # TODO: fail at 17 if label = source ( bug fixé mais un peu à la zob)\n",
    "    nb_mentions_csv = 100\n",
    "    list_mention = get_csv_files(\"gdelt_data\", nb_mentions_csv)\n",
    "    list_event = get_csv_files(\"gdelt_data_event\",nb_event_csv)\n",
    "\n",
    "    label = \"source\"\n",
    "    #device = torch.device('cuda' if torch.cuda.is_available() else 'cpu')\n",
    "    device = torch.device ('cpu')\n",
    "    args_simple_connexions_HAN_1 = {\n",
    "    \"list_mention\": list_mention,\n",
    "    \"list_event\":list_event,\n",
    "    \n",
    "    \"hidden_channels\": 64,\n",
    "    \"out_channels\": 2,\n",
    "    \"n_heads\": 4,\n",
    "    \"dropout\": 0.5,\n",
    "    \"nb_epoch\": [10,15,20],\n",
    "    \"lr\": [0.1,0.005,0.001],\n",
    "    \"weight_decay\":0.001\n",
    "    \n",
    "    }\n",
    "    \n",
    "    fake_news_detector = SimpleConnexionsHAN(label,device) \n",
    "    # fake_news_detector = CloseEventsConnexionsHAN(label,device) \n",
    "    \n",
    "    fake_news_detector.create_graph_and_train_on_model(**args_simple_connexions_HAN_1)\n",
    "    \n",
    "    # TODO: create a function to save model\n",
    "    # TODO faire en sorte que les resultats soient reproductibles\n",
    "    \n",
    "    # analyse = GraphViz(label,list_event,list_mention)\n",
    "    # analyse.get_recap()\n",
    "    # analyse.display_graph()\n",
    "    "
   ]
  },
  {
   "cell_type": "code",
   "execution_count": null,
   "id": "801bb5a5-de35-4c59-a7ab-e831aa9bfec8",
   "metadata": {},
   "outputs": [],
   "source": []
  }
 ],
 "metadata": {
  "kernelspec": {
   "display_name": "Python 3 (ipykernel)",
   "language": "python",
   "name": "python3"
  },
  "language_info": {
   "codemirror_mode": {
    "name": "ipython",
    "version": 3
   },
   "file_extension": ".py",
   "mimetype": "text/x-python",
   "name": "python",
   "nbconvert_exporter": "python",
   "pygments_lexer": "ipython3",
   "version": "3.8.18"
  }
 },
 "nbformat": 4,
 "nbformat_minor": 5
}
