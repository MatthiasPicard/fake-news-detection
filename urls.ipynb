{
 "cells": [
  {
   "cell_type": "code",
   "execution_count": 40,
   "metadata": {},
   "outputs": [],
   "source": [
    "import pickle\n",
    "import pandas as pd"
   ]
  },
  {
   "cell_type": "code",
   "execution_count": 41,
   "metadata": {},
   "outputs": [],
   "source": [
    "with open(\"urls_to_download_fr.pkl\", 'rb') as file:\n",
    "    df = pickle.load(file)"
   ]
  },
  {
   "cell_type": "code",
   "execution_count": 42,
   "metadata": {},
   "outputs": [
    {
     "data": {
      "text/plain": [
       "is_fake\n",
       "0    1630\n",
       "1      22\n",
       "Name: count, dtype: int64"
      ]
     },
     "execution_count": 42,
     "metadata": {},
     "output_type": "execute_result"
    }
   ],
   "source": [
    "df[\"is_fake\"].value_counts()"
   ]
  },
  {
   "cell_type": "code",
   "execution_count": 43,
   "metadata": {},
   "outputs": [
    {
     "data": {
      "text/plain": [
       "309     https://fr.sputniknews.com/20220101/une-folle-...\n",
       "311     https://fr.sputniknews.com/20220101/le-canada-...\n",
       "316     https://fr.sputniknews.com/20220101/apres-des-...\n",
       "485     https://fr.sputniknews.com/20220101/ukraine-bi...\n",
       "520     https://fr.sputniknews.com/20220101/covid-19om...\n",
       "540     https://fr.sputniknews.com/20220101/inde-12-mo...\n",
       "542     https://fr.sputniknews.com/20220101/la-marine-...\n",
       "713     https://fr.sputniknews.com/20220101/le-drapeau...\n",
       "718     https://fr.sputniknews.com/20220101/une-ex-con...\n",
       "823     https://fr.sputniknews.com/20220101/boris-john...\n",
       "827     https://fr.sputniknews.com/20220101/lafrique-d...\n",
       "910     https://fr.sputniknews.com/20220101/la-hausse-...\n",
       "941     https://fr.sputniknews.com/20220101/lukraine-f...\n",
       "1121    https://fr.sputniknews.com/20220101/autopromot...\n",
       "1154    https://fr.sputniknews.com/20220101/une-rare-p...\n",
       "1157    https://fr.sputniknews.com/20220101/gabon-les-...\n",
       "1160    https://fr.sputniknews.com/20220101/le-niger-d...\n",
       "1177    https://fr.sputniknews.com/20220101/saint-sylv...\n",
       "1181    https://fr.sputniknews.com/20220101/plusieurs-...\n",
       "1384    https://fr.sputniknews.com/20220101/blesser-un...\n",
       "1539    https://fr.sputniknews.com/20220101/layatollah...\n",
       "1542    https://fr.sputniknews.com/20220101/les-etats-...\n",
       "Name: links, dtype: object"
      ]
     },
     "execution_count": 43,
     "metadata": {},
     "output_type": "execute_result"
    }
   ],
   "source": [
    "df[df[\"is_fake\"]==1].links"
   ]
  },
  {
   "cell_type": "code",
   "execution_count": 46,
   "metadata": {},
   "outputs": [
    {
     "data": {
      "text/plain": [
       "'https://fr.sputniknews.com/20220101/une-folle-experience-positive-au-covid-en-plein-vol-une-americaine-passe-5-heures-aux-toilettes-1054138351.html'"
      ]
     },
     "execution_count": 46,
     "metadata": {},
     "output_type": "execute_result"
    }
   ],
   "source": [
    "df.iloc[309].links"
   ]
  }
 ],
 "metadata": {
  "kernelspec": {
   "display_name": "Python 3",
   "language": "python",
   "name": "python3"
  },
  "language_info": {
   "codemirror_mode": {
    "name": "ipython",
    "version": 3
   },
   "file_extension": ".py",
   "mimetype": "text/x-python",
   "name": "python",
   "nbconvert_exporter": "python",
   "pygments_lexer": "ipython3",
   "version": "3.11.6"
  }
 },
 "nbformat": 4,
 "nbformat_minor": 2
}
